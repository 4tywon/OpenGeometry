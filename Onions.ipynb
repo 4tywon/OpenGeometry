{
 "cells": [
  {
   "cell_type": "code",
   "execution_count": 1,
   "metadata": {
    "collapsed": true
   },
   "outputs": [],
   "source": [
    "## CCW Implementation\n",
    "## ((a1, a2), (b1, b2), (c1, c2)) -> int\n",
    "def CCW(a,b,c):\n",
    "    det = a[0]*b[1] - a[1]*b[0] + a[1]*c[0] - a[0]*c[1] + b[0]*c[1] - c[0]*b[1]\n",
    "    if det < 0:\n",
    "        return 1\n",
    "    if det > 0:\n",
    "        return -1\n",
    "    if (a == b):\n",
    "        if a == c:\n",
    "            return 0\n",
    "        return 2\n",
    "    if (a[0] <= b[0] and b[0] <= c[0]) or (a[0] >= b[0] and b[0] >= c[0]):\n",
    "        return 2\n",
    "    if (a[0] <= c[0] and c[0] <= b[0]) or (a[0] >= c[0] and c[0] >= b[0]):\n",
    "        return 0\n",
    "    else:\n",
    "        return -2"
   ]
  },
  {
   "cell_type": "code",
   "execution_count": 2,
   "metadata": {
    "collapsed": true
   },
   "outputs": [],
   "source": [
    "## (((p1,p2), (q1,q2)), ((a1,a2), (b1,b2)) -> bool\n",
    "def Intersect(l1, l2):\n",
    "    if l1[0] == l1[1] and abs(CCW(*l2, l1[0])) == 1:\n",
    "        return False\n",
    "    if l2[0] == l2[1] and abs(CCW(*l1, l2[0])) == 1:\n",
    "        return False\n",
    "    if l2[0] == l2[1] and l1[0] == l1[1] and l2[0] != l1[1]:\n",
    "        return False\n",
    "    elif l2[0] == l2[1] and l1[0] == l1[1]:\n",
    "        return True\n",
    "    if abs(CCW(*l1, l2[0])) != 1 or abs(CCW(*l1, l2[1])) != 1 or abs(CCW(*l2, l1[0])) != 1 or abs(CCW(*l2, l1[1])) != 1:\n",
    "        return True\n",
    "    first = CCW(*l1, l2[0]) == -1*CCW(*l1, l2[1])\n",
    "\n",
    "    second = CCW(*l2, l1[0]) == -1*CCW(*l2, l1[1])\n",
    "\n",
    "    return first and second"
   ]
  },
  {
   "cell_type": "code",
   "execution_count": 3,
   "metadata": {
    "collapsed": true
   },
   "outputs": [],
   "source": [
    "#Pass in Array of 2-tuples\n",
    "#call x.hull to get the convex hull\n",
    "class QuickHull:\n",
    "    def __init__(self, points):\n",
    "        points = set(points)\n",
    "        if len(points) <= 2:\n",
    "            self.hull = points\n",
    "            return\n",
    "        if len(points) == 3:\n",
    "            points = list(points)\n",
    "            if CCW(points[0], points[1], points[2]) != 2 and CCW(points[0], points[1], points[2]) != 0 and CCW(points[0], points[1], points[2]) != -2:\n",
    "                self.hull = set(points)\n",
    "            else:\n",
    "                self.hull = set([points[0], points[1]])\n",
    "            return\n",
    "        r, l = (max(points), min(points))\n",
    "        under = []\n",
    "        over = []\n",
    "        for i in points:\n",
    "            if CCW(i, r, l) == -1:\n",
    "                under.append(i)\n",
    "            else:\n",
    "                over.append(i)\n",
    "        upperhull = set(self.construct(under, l, r))\n",
    "        lowerhull = set(self.construct(over, r, l))\n",
    "        self.hull = upperhull | lowerhull\n",
    "        \n",
    "    def findmax(self, s, p1, p2):\n",
    "        maxx = s[0]\n",
    "        cur = self.dist(maxx, p1, p2)\n",
    "        for i in s[1:]:\n",
    "            if self.distanceComp(self.dist(i, p1, p2), cur):\n",
    "                maxx = i\n",
    "                cur = self.dist(i, p1, p2)\n",
    "        return maxx\n",
    "    \n",
    "    def dist(self, q, p1, p2):\n",
    "        # (distance formula derivation using projections)\n",
    "        n = pow((p2[1] - p1[1])*q[0] - (p2[0] - p1[0])*q[1] + p2[0]*p1[1] - p2[1]*p1[0], 2)\n",
    "        m = (p2[1] - p1[1])*(p2[1] - p1[1]) + (p2[0] - p1[0])*(p2[0] - p1[0])\n",
    "        return (n,m)\n",
    "    \n",
    "    def distanceComp(self, d1, d2):\n",
    "        return d1[0]*d2[1] > d1[1]*d2[0]\n",
    "    \n",
    "    def prune(self, s, p1, p2, p_):\n",
    "        s1 = []\n",
    "        s2 = []\n",
    "        for i in s:\n",
    "            if not self.triangle(i, p1, p_, p2):\n",
    "                if not self.distanceComp(self.dist(i, p1, p_), self.dist(i, p_, p2)):\n",
    "                    s1.append(i)\n",
    "                else:\n",
    "                    s2.append(i)\n",
    "        return (s1, s2)\n",
    "        \n",
    "        \n",
    "    def triangle(self, q, p1, p2, p3):\n",
    "        a = CCW(q, p1, p2)\n",
    "        b = CCW(q, p2, p3)\n",
    "        if (abs(a) != 1 or abs(b) != 1):\n",
    "            return True\n",
    "        if (a == b):\n",
    "            return True\n",
    "        return False\n",
    "            \n",
    "        \n",
    "    def construct(self,pts, q1, q2):\n",
    "        acc = [q1, q2]\n",
    "        def helper(s, p1, p2):\n",
    "            if s == []:\n",
    "                return\n",
    "            p_ = self.findmax(s, p1, p2)\n",
    "            acc.append(p_)\n",
    "            s1, s2 = self.prune(s, p1, p2, p_)\n",
    "            helper(s1, p1, p_)\n",
    "            helper(s2, p_, p2)\n",
    "        helper(pts, q1, q2)\n",
    "        return acc\n"
   ]
  },
  {
   "cell_type": "code",
   "execution_count": 4,
   "metadata": {
    "collapsed": true
   },
   "outputs": [],
   "source": [
    "import matplotlib.pyplot as plt\n",
    "class Onion:\n",
    "    def __init__(self, points):\n",
    "        self.points = set(points)\n",
    "        self.onionLayers = []\n",
    "    def peelLayer(self, display = True):\n",
    "        if len(self.points) == 0:\n",
    "            print(\"peeled\")\n",
    "            return False\n",
    "        x = QuickHull(self.points).hull\n",
    "        self.onionLayers.append(x)\n",
    "        self.display(x, display)\n",
    "        self.points = self.points - x\n",
    "        return True\n",
    "    def display(self, pts, disp):\n",
    "        if not disp:\n",
    "            return\n",
    "        x = []\n",
    "        y = []\n",
    "        for i in self.points:\n",
    "            x.append(i[0])\n",
    "            y.append(i[1])\n",
    "        plt.plot(x,y, 'ro')\n",
    "        _x = []\n",
    "        _y = []\n",
    "        for i in pts:\n",
    "            _x.append(i[0])\n",
    "            _y.append(i[1])\n",
    "        plt.plot(x,y, 'ro')\n",
    "        plt.plot(_x,_y, 'bo')\n",
    "        plt.show()\n",
    "    def peelAll(self):\n",
    "        while(self.peelLayer()):\n",
    "            pass\n",
    "        return self.numberLayers()\n",
    "    def silentPeelAll(self):\n",
    "        while(self.peelLayer(display = False)):\n",
    "            pass\n",
    "        return self.numberLayers()\n",
    "    def numberLayers(self):\n",
    "        return len(self.onionLayers)"
   ]
  },
  {
   "cell_type": "code",
   "execution_count": 5,
   "metadata": {
    "collapsed": true
   },
   "outputs": [],
   "source": [
    "import random\n",
    "import math\n",
    "class randgrid:\n",
    "    def circle(self,number, radius):\n",
    "        points = []\n",
    "        for i in range(number):\n",
    "            r = math.sqrt(random.uniform(0, radius))\n",
    "            theta = random.uniform(0, 2*math.pi)\n",
    "            points.append((r *math.cos(theta), r*math.sin(theta)))\n",
    "        return points\n",
    "    def square(self,number, side):\n",
    "        points = []\n",
    "        for i in range(number):\n",
    "            points.append((random.uniform(0, side), random.uniform(0,side)))\n",
    "        return points\n"
   ]
  },
  {
   "cell_type": "code",
   "execution_count": 6,
   "metadata": {
    "collapsed": true
   },
   "outputs": [],
   "source": [
    "class testHarness:\n",
    "    def measureCircle(self, n):\n",
    "        print(Onion(randgrid().circle(n,1)).silentPeelAll())\n",
    "    def measureSquare(self, n):\n",
    "        print(Onion(randgrid().square(n,1)).silentPeelAll())"
   ]
  },
  {
   "cell_type": "code",
   "execution_count": 8,
   "metadata": {
    "scrolled": false
   },
   "outputs": [
    {
     "name": "stdout",
     "output_type": "stream",
     "text": [
      "peeled\n",
      "240\n"
     ]
    }
   ],
   "source": [
    "testHarness().measureSquare(10000)"
   ]
  },
  {
   "cell_type": "code",
   "execution_count": null,
   "metadata": {
    "collapsed": true
   },
   "outputs": [],
   "source": []
  },
  {
   "cell_type": "code",
   "execution_count": null,
   "metadata": {
    "collapsed": true
   },
   "outputs": [],
   "source": []
  },
  {
   "cell_type": "code",
   "execution_count": null,
   "metadata": {
    "collapsed": true
   },
   "outputs": [],
   "source": []
  },
  {
   "cell_type": "code",
   "execution_count": null,
   "metadata": {
    "collapsed": true
   },
   "outputs": [],
   "source": []
  },
  {
   "cell_type": "code",
   "execution_count": null,
   "metadata": {
    "collapsed": true
   },
   "outputs": [],
   "source": []
  },
  {
   "cell_type": "code",
   "execution_count": null,
   "metadata": {
    "collapsed": true
   },
   "outputs": [],
   "source": []
  },
  {
   "cell_type": "code",
   "execution_count": null,
   "metadata": {
    "collapsed": true
   },
   "outputs": [],
   "source": []
  },
  {
   "cell_type": "code",
   "execution_count": null,
   "metadata": {
    "collapsed": true
   },
   "outputs": [],
   "source": []
  }
 ],
 "metadata": {
  "kernelspec": {
   "display_name": "Python 3",
   "language": "python",
   "name": "python3"
  },
  "language_info": {
   "codemirror_mode": {
    "name": "ipython",
    "version": 3
   },
   "file_extension": ".py",
   "mimetype": "text/x-python",
   "name": "python",
   "nbconvert_exporter": "python",
   "pygments_lexer": "ipython3",
   "version": "3.6.3"
  }
 },
 "nbformat": 4,
 "nbformat_minor": 2
}
